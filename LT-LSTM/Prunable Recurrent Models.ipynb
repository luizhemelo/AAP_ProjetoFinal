{
 "cells": [
  {
   "cell_type": "code",
   "execution_count": 1,
   "metadata": {},
   "outputs": [],
   "source": [
    "import prunable_layers"
   ]
  },
  {
   "cell_type": "code",
   "execution_count": 2,
   "metadata": {},
   "outputs": [],
   "source": [
    "import os\n",
    "import numpy\n",
    "import pandas\n",
    "import seaborn\n",
    "import tensorflow\n",
    "from datetime import datetime\n",
    "from matplotlib import pyplot\n",
    "from tensorflow import losses, metrics\n",
    "from tensorflow.keras import layers, models, utils, preprocessing, activations, optimizers, callbacks"
   ]
  },
  {
   "cell_type": "code",
   "execution_count": 3,
   "metadata": {},
   "outputs": [],
   "source": [
    "#Tries to enable dynamic memory allocation on GP\n",
    "try:\n",
    "    for i in tensorflow.config.experimental.list_physical_devices(\"GPU\"):\n",
    "        tensorflow.config.experimental.set_memory_growth(i, True)\n",
    "except:\n",
    "    print(\"Device dynamic memory allocation failed!\")"
   ]
  },
  {
   "cell_type": "code",
   "execution_count": 4,
   "metadata": {},
   "outputs": [],
   "source": [
    "seaborn.set_style(\"darkgrid\")"
   ]
  },
  {
   "cell_type": "code",
   "execution_count": 5,
   "metadata": {},
   "outputs": [
    {
     "name": "stdout",
     "output_type": "stream",
     "text": [
      "train set: (156060, 4)\n"
     ]
    },
    {
     "data": {
      "text/html": [
       "<div>\n",
       "<style scoped>\n",
       "    .dataframe tbody tr th:only-of-type {\n",
       "        vertical-align: middle;\n",
       "    }\n",
       "\n",
       "    .dataframe tbody tr th {\n",
       "        vertical-align: top;\n",
       "    }\n",
       "\n",
       "    .dataframe thead th {\n",
       "        text-align: right;\n",
       "    }\n",
       "</style>\n",
       "<table border=\"1\" class=\"dataframe\">\n",
       "  <thead>\n",
       "    <tr style=\"text-align: right;\">\n",
       "      <th></th>\n",
       "      <th>PhraseId</th>\n",
       "      <th>SentenceId</th>\n",
       "      <th>Phrase</th>\n",
       "      <th>Sentiment</th>\n",
       "    </tr>\n",
       "  </thead>\n",
       "  <tbody>\n",
       "    <tr>\n",
       "      <th>0</th>\n",
       "      <td>1</td>\n",
       "      <td>1</td>\n",
       "      <td>A series of escapades demonstrating the adage ...</td>\n",
       "      <td>1</td>\n",
       "    </tr>\n",
       "    <tr>\n",
       "      <th>1</th>\n",
       "      <td>2</td>\n",
       "      <td>1</td>\n",
       "      <td>A series of escapades demonstrating the adage ...</td>\n",
       "      <td>2</td>\n",
       "    </tr>\n",
       "    <tr>\n",
       "      <th>2</th>\n",
       "      <td>3</td>\n",
       "      <td>1</td>\n",
       "      <td>A series</td>\n",
       "      <td>2</td>\n",
       "    </tr>\n",
       "    <tr>\n",
       "      <th>3</th>\n",
       "      <td>4</td>\n",
       "      <td>1</td>\n",
       "      <td>A</td>\n",
       "      <td>2</td>\n",
       "    </tr>\n",
       "    <tr>\n",
       "      <th>4</th>\n",
       "      <td>5</td>\n",
       "      <td>1</td>\n",
       "      <td>series</td>\n",
       "      <td>2</td>\n",
       "    </tr>\n",
       "    <tr>\n",
       "      <th>5</th>\n",
       "      <td>6</td>\n",
       "      <td>1</td>\n",
       "      <td>of escapades demonstrating the adage that what...</td>\n",
       "      <td>2</td>\n",
       "    </tr>\n",
       "    <tr>\n",
       "      <th>6</th>\n",
       "      <td>7</td>\n",
       "      <td>1</td>\n",
       "      <td>of</td>\n",
       "      <td>2</td>\n",
       "    </tr>\n",
       "    <tr>\n",
       "      <th>7</th>\n",
       "      <td>8</td>\n",
       "      <td>1</td>\n",
       "      <td>escapades demonstrating the adage that what is...</td>\n",
       "      <td>2</td>\n",
       "    </tr>\n",
       "    <tr>\n",
       "      <th>8</th>\n",
       "      <td>9</td>\n",
       "      <td>1</td>\n",
       "      <td>escapades</td>\n",
       "      <td>2</td>\n",
       "    </tr>\n",
       "    <tr>\n",
       "      <th>9</th>\n",
       "      <td>10</td>\n",
       "      <td>1</td>\n",
       "      <td>demonstrating the adage that what is good for ...</td>\n",
       "      <td>2</td>\n",
       "    </tr>\n",
       "  </tbody>\n",
       "</table>\n",
       "</div>"
      ],
      "text/plain": [
       "   PhraseId  SentenceId                                             Phrase  \\\n",
       "0         1           1  A series of escapades demonstrating the adage ...   \n",
       "1         2           1  A series of escapades demonstrating the adage ...   \n",
       "2         3           1                                           A series   \n",
       "3         4           1                                                  A   \n",
       "4         5           1                                             series   \n",
       "5         6           1  of escapades demonstrating the adage that what...   \n",
       "6         7           1                                                 of   \n",
       "7         8           1  escapades demonstrating the adage that what is...   \n",
       "8         9           1                                          escapades   \n",
       "9        10           1  demonstrating the adage that what is good for ...   \n",
       "\n",
       "   Sentiment  \n",
       "0          1  \n",
       "1          2  \n",
       "2          2  \n",
       "3          2  \n",
       "4          2  \n",
       "5          2  \n",
       "6          2  \n",
       "7          2  \n",
       "8          2  \n",
       "9          2  "
      ]
     },
     "execution_count": 5,
     "metadata": {},
     "output_type": "execute_result"
    }
   ],
   "source": [
    "df_train = pandas.read_csv(\"train.tsv\", sep='\\t')\n",
    "print(\"train set: {0}\".format(df_train.shape))\n",
    "df_train.head(10)"
   ]
  },
  {
   "cell_type": "code",
   "execution_count": 6,
   "metadata": {},
   "outputs": [
    {
     "name": "stdout",
     "output_type": "stream",
     "text": [
      "test set: (66292, 3)\n"
     ]
    },
    {
     "data": {
      "text/html": [
       "<div>\n",
       "<style scoped>\n",
       "    .dataframe tbody tr th:only-of-type {\n",
       "        vertical-align: middle;\n",
       "    }\n",
       "\n",
       "    .dataframe tbody tr th {\n",
       "        vertical-align: top;\n",
       "    }\n",
       "\n",
       "    .dataframe thead th {\n",
       "        text-align: right;\n",
       "    }\n",
       "</style>\n",
       "<table border=\"1\" class=\"dataframe\">\n",
       "  <thead>\n",
       "    <tr style=\"text-align: right;\">\n",
       "      <th></th>\n",
       "      <th>PhraseId</th>\n",
       "      <th>SentenceId</th>\n",
       "      <th>Phrase</th>\n",
       "    </tr>\n",
       "  </thead>\n",
       "  <tbody>\n",
       "    <tr>\n",
       "      <th>0</th>\n",
       "      <td>156061</td>\n",
       "      <td>8545</td>\n",
       "      <td>An intermittently pleasing but mostly routine ...</td>\n",
       "    </tr>\n",
       "    <tr>\n",
       "      <th>1</th>\n",
       "      <td>156062</td>\n",
       "      <td>8545</td>\n",
       "      <td>An intermittently pleasing but mostly routine ...</td>\n",
       "    </tr>\n",
       "    <tr>\n",
       "      <th>2</th>\n",
       "      <td>156063</td>\n",
       "      <td>8545</td>\n",
       "      <td>An</td>\n",
       "    </tr>\n",
       "    <tr>\n",
       "      <th>3</th>\n",
       "      <td>156064</td>\n",
       "      <td>8545</td>\n",
       "      <td>intermittently pleasing but mostly routine effort</td>\n",
       "    </tr>\n",
       "    <tr>\n",
       "      <th>4</th>\n",
       "      <td>156065</td>\n",
       "      <td>8545</td>\n",
       "      <td>intermittently pleasing but mostly routine</td>\n",
       "    </tr>\n",
       "    <tr>\n",
       "      <th>5</th>\n",
       "      <td>156066</td>\n",
       "      <td>8545</td>\n",
       "      <td>intermittently pleasing but</td>\n",
       "    </tr>\n",
       "    <tr>\n",
       "      <th>6</th>\n",
       "      <td>156067</td>\n",
       "      <td>8545</td>\n",
       "      <td>intermittently pleasing</td>\n",
       "    </tr>\n",
       "    <tr>\n",
       "      <th>7</th>\n",
       "      <td>156068</td>\n",
       "      <td>8545</td>\n",
       "      <td>intermittently</td>\n",
       "    </tr>\n",
       "    <tr>\n",
       "      <th>8</th>\n",
       "      <td>156069</td>\n",
       "      <td>8545</td>\n",
       "      <td>pleasing</td>\n",
       "    </tr>\n",
       "    <tr>\n",
       "      <th>9</th>\n",
       "      <td>156070</td>\n",
       "      <td>8545</td>\n",
       "      <td>but</td>\n",
       "    </tr>\n",
       "  </tbody>\n",
       "</table>\n",
       "</div>"
      ],
      "text/plain": [
       "   PhraseId  SentenceId                                             Phrase\n",
       "0    156061        8545  An intermittently pleasing but mostly routine ...\n",
       "1    156062        8545  An intermittently pleasing but mostly routine ...\n",
       "2    156063        8545                                                 An\n",
       "3    156064        8545  intermittently pleasing but mostly routine effort\n",
       "4    156065        8545         intermittently pleasing but mostly routine\n",
       "5    156066        8545                        intermittently pleasing but\n",
       "6    156067        8545                            intermittently pleasing\n",
       "7    156068        8545                                     intermittently\n",
       "8    156069        8545                                           pleasing\n",
       "9    156070        8545                                                but"
      ]
     },
     "execution_count": 6,
     "metadata": {},
     "output_type": "execute_result"
    }
   ],
   "source": [
    "df_test = pandas.read_csv('test.tsv', sep='\\t')\n",
    "print('test set: {0}'.format(df_test.shape))\n",
    "df_test.head(10)"
   ]
  },
  {
   "cell_type": "code",
   "execution_count": 7,
   "metadata": {},
   "outputs": [],
   "source": [
    "replace_list = {r\"i'm\": 'i am', r\"'re\": ' are', r\"let’s\": 'let us', r\"'s\":  ' is', r\"'ve\": ' have', r\"can't\": 'can not', r\"cannot\": 'can not', r\"shan’t\": 'shall not', r\"n't\": ' not',\n",
    "                r\"'d\": ' would', r\"'ll\": ' will', r\"'scuse\": 'excuse', ',': ' ,', '.': ' .', '!': ' !', '?': ' ?', '\\s+': ' '}"
   ]
  },
  {
   "cell_type": "code",
   "execution_count": 8,
   "metadata": {},
   "outputs": [],
   "source": [
    "def clean_text(text):\n",
    "    text = text.lower()\n",
    "    for s in replace_list:\n",
    "        text = text.replace(s, replace_list[s])\n",
    "    text = ' '.join(text.split())\n",
    "    return text"
   ]
  },
  {
   "cell_type": "code",
   "execution_count": 9,
   "metadata": {},
   "outputs": [],
   "source": [
    "X_train = df_train[\"Phrase\"].apply(lambda p: clean_text(p))\n",
    "X_test = df_test[\"Phrase\"].apply(lambda p: clean_text(p))"
   ]
  },
  {
   "cell_type": "code",
   "execution_count": 10,
   "metadata": {},
   "outputs": [
    {
     "name": "stdout",
     "output_type": "stream",
     "text": [
      "max phrase len: 53\n"
     ]
    }
   ],
   "source": [
    "phrase_len = X_train.apply(lambda p: len(p.split(' ')))\n",
    "max_phrase_len = phrase_len.max()\n",
    "print('max phrase len: {0}'.format(max_phrase_len))"
   ]
  },
  {
   "cell_type": "code",
   "execution_count": 11,
   "metadata": {},
   "outputs": [
    {
     "data": {
      "image/png": "[encoded data removed]",
      "text/plain": [
       "<Figure size 1440x864 with 1 Axes>"
      ]
     },
     "metadata": {},
     "output_type": "display_data"
    }
   ],
   "source": [
    "_, axis = pyplot.subplots(figsize=(20, 12))\n",
    "seaborn.distplot(phrase_len, kde=False, norm_hist=True)\n",
    "axis.set_ylabel(\"Probability\", fontsize=15)\n",
    "axis.set_xlabel(\"Phrase Length\", fontsize=15)\n",
    "pyplot.show()"
   ]
  },
  {
   "cell_type": "code",
   "execution_count": 12,
   "metadata": {},
   "outputs": [],
   "source": [
    "y_train = df_train['Sentiment']"
   ]
  },
  {
   "cell_type": "code",
   "execution_count": 13,
   "metadata": {},
   "outputs": [],
   "source": [
    "max_words = 8192\n",
    "tokenizer = preprocessing.text.Tokenizer(num_words=max_words, filters='\"#$%&()*+-/:;<=>@[\\]^_`{|}~')\n",
    "tokenizer.fit_on_texts(X_train)\n",
    "X_train = tokenizer.texts_to_sequences(X_train)\n",
    "X_train = preprocessing.sequence.pad_sequences(X_train, maxlen=max_phrase_len)\n",
    "y_train = utils.to_categorical(y_train)"
   ]
  },
  {
   "cell_type": "code",
   "execution_count": 14,
   "metadata": {},
   "outputs": [],
   "source": [
    "u = numpy.unique(y_train, return_counts=True, axis=0)"
   ]
  },
  {
   "cell_type": "code",
   "execution_count": 15,
   "metadata": {},
   "outputs": [
    {
     "data": {
      "image/png": "[encoded data removed]",
      "text/plain": [
       "<Figure size 1440x864 with 1 Axes>"
      ]
     },
     "metadata": {},
     "output_type": "display_data"
    }
   ],
   "source": [
    "_, axis = pyplot.subplots(figsize=(20, 12))\n",
    "seaborn.barplot(x=[i for i in range(u[0].shape[0])], y=u[1])\n",
    "axis.set_ylabel(\"Frequence\", fontsize=15)\n",
    "axis.set_xlabel(\"Class\", fontsize=15)\n",
    "pyplot.show()"
   ]
  },
  {
   "cell_type": "code",
   "execution_count": 16,
   "metadata": {},
   "outputs": [],
   "source": [
    "test_phrase_len = X_test.apply(lambda p: len(p.split(' ')))\n",
    "test_max_phrase_len = test_phrase_len.max()"
   ]
  },
  {
   "cell_type": "code",
   "execution_count": 17,
   "metadata": {},
   "outputs": [],
   "source": [
    "max_words = 8192\n",
    "tokenizer = preprocessing.text.Tokenizer(num_words=max_words, filters='\"#$%&()*+-/:;<=>@[\\]^_`{|}~')\n",
    "tokenizer.fit_on_texts(X_test)\n",
    "X_test = tokenizer.texts_to_sequences(X_test)\n",
    "X_test = preprocessing.sequence.pad_sequences(X_test, maxlen=max_phrase_len)"
   ]
  },
  {
   "cell_type": "code",
   "execution_count": 18,
   "metadata": {},
   "outputs": [
    {
     "name": "stdout",
     "output_type": "stream",
     "text": [
      "Model: \"sequential\"\n",
      "_________________________________________________________________\n",
      "Layer (type)                 Output Shape              Param #   \n",
      "=================================================================\n",
      "embedding (Embedding)        (None, 53, 256)           2097152   \n",
      "_________________________________________________________________\n",
      "prunable_lstm (PrunableLSTM) (None, 256)               525312    \n",
      "_________________________________________________________________\n",
      "prunable_dense (PrunableDens (None, 256)               65792     \n",
      "_________________________________________________________________\n",
      "prunable_dense_1 (PrunableDe (None, 128)               32896     \n",
      "_________________________________________________________________\n",
      "prunable_dense_2 (PrunableDe (None, 64)                8256      \n",
      "_________________________________________________________________\n",
      "prunable_dense_3 (PrunableDe (None, 32)                2080      \n",
      "_________________________________________________________________\n",
      "prunable_dense_4 (PrunableDe (None, 5)                 165       \n",
      "=================================================================\n",
      "Total params: 2,731,653\n",
      "Trainable params: 2,731,653\n",
      "Non-trainable params: 0\n",
      "_________________________________________________________________\n"
     ]
    }
   ],
   "source": [
    "metrics_list = [metrics.CategoricalAccuracy(), metrics.Precision(), metrics.Recall(), metrics.AUC()]\n",
    "model_lstm = models.Sequential()\n",
    "model_lstm.add(layers.Embedding(input_dim=max_words, output_dim=256, input_length=max_phrase_len))\n",
    "model_lstm.add(prunable_layers.PrunableLSTM(256, activation=activations.tanh))\n",
    "model_lstm.add(prunable_layers.PrunableDense(256, activation=activations.relu))\n",
    "model_lstm.add(prunable_layers.PrunableDense(128, activation=activations.relu))\n",
    "model_lstm.add(prunable_layers.PrunableDense(64, activation=activations.relu))\n",
    "model_lstm.add(prunable_layers.PrunableDense(32, activation=activations.relu))\n",
    "model_lstm.add(prunable_layers.PrunableDense(5, activation=activations.softmax))\n",
    "model_lstm.compile(loss=losses.CategoricalCrossentropy(), optimizer=optimizers.Adam(learning_rate=0.001), metrics=metrics_list)\n",
    "model_lstm.summary()"
   ]
  },
  {
   "cell_type": "code",
   "execution_count": 19,
   "metadata": {},
   "outputs": [],
   "source": [
    "for layer in model_lstm.layers:\n",
    "    if isinstance(layer, layers.RNN):\n",
    "        layer.cell.save_kernel()\n",
    "        layer.cell.save_recurrent_kernel()\n",
    "        layer.cell.save_bias()\n",
    "    elif isinstance(layer, layers.Dense):\n",
    "        layer.save_kernel()\n",
    "        layer.save_bias()"
   ]
  },
  {
   "cell_type": "code",
   "execution_count": 20,
   "metadata": {},
   "outputs": [],
   "source": [
    "!rm -rf ./.logs/"
   ]
  },
  {
   "cell_type": "code",
   "execution_count": 21,
   "metadata": {},
   "outputs": [],
   "source": [
    "logdir = os.path.join(\".logs\", datetime.now().strftime(\"%Y%m%d-%H%M%S\"))\n",
    "tensorboard_callback = callbacks.TensorBoard(log_dir=logdir, histogram_freq=1, embeddings_freq=1)"
   ]
  },
  {
   "cell_type": "code",
   "execution_count": 22,
   "metadata": {},
   "outputs": [
    {
     "name": "stdout",
     "output_type": "stream",
     "text": [
      "Train on 156060 samples, validate on 156060 samples\n",
      "Epoch 1/10\n",
      "  2048/156060 [..............................] - ETA: 4:49 - loss: 1.6084 - categorical_accuracy: 0.2412 - precision: 0.0000e+00 - recall: 0.0000e+00 - auc: 0.5063WARNING:tensorflow:Method (on_train_batch_end) is slow compared to the batch update (0.600893). Check your callbacks.\n",
      "156060/156060 [==============================] - 105s 675us/sample - loss: 1.2065 - categorical_accuracy: 0.5159 - precision: 0.6785 - recall: 0.3476 - auc: 0.8052 - val_loss: 1.0821 - val_categorical_accuracy: 0.5574 - val_precision: 0.7214 - val_recall: 0.4165 - val_auc: 0.8439\n",
      "Epoch 2/10\n",
      "156060/156060 [==============================] - 118s 754us/sample - loss: 1.0097 - categorical_accuracy: 0.5922 - precision: 0.7253 - recall: 0.4422 - auc: 0.8677 - val_loss: 0.8563 - val_categorical_accuracy: 0.6538 - val_precision: 0.7186 - val_recall: 0.5560 - val_auc: 0.9060\n",
      "Epoch 3/10\n",
      "156060/156060 [==============================] - 115s 736us/sample - loss: 0.8362 - categorical_accuracy: 0.6625 - precision: 0.7111 - recall: 0.5795 - auc: 0.9097 - val_loss: 0.7715 - val_categorical_accuracy: 0.6895 - val_precision: 0.7308 - val_recall: 0.6170 - val_auc: 0.9227\n",
      "Epoch 4/10\n",
      "156060/156060 [==============================] - 115s 738us/sample - loss: 0.7815 - categorical_accuracy: 0.6844 - precision: 0.7218 - recall: 0.6195 - auc: 0.9205 - val_loss: 0.7281 - val_categorical_accuracy: 0.7034 - val_precision: 0.7372 - val_recall: 0.6490 - val_auc: 0.9307\n",
      "Epoch 5/10\n",
      "156060/156060 [==============================] - 115s 736us/sample - loss: 0.7465 - categorical_accuracy: 0.6946 - precision: 0.7280 - recall: 0.6415 - auc: 0.9269 - val_loss: 0.7026 - val_categorical_accuracy: 0.7147 - val_precision: 0.7501 - val_recall: 0.6542 - val_auc: 0.9353\n",
      "Epoch 6/10\n",
      "156060/156060 [==============================] - 115s 736us/sample - loss: 0.7214 - categorical_accuracy: 0.7049 - precision: 0.7350 - recall: 0.6547 - auc: 0.9314 - val_loss: 0.6805 - val_categorical_accuracy: 0.7215 - val_precision: 0.7491 - val_recall: 0.6771 - val_auc: 0.9387\n",
      "Epoch 7/10\n",
      "156060/156060 [==============================] - 115s 734us/sample - loss: 0.7024 - categorical_accuracy: 0.7109 - precision: 0.7377 - recall: 0.6664 - auc: 0.9346 - val_loss: 0.6693 - val_categorical_accuracy: 0.7262 - val_precision: 0.7523 - val_recall: 0.6846 - val_auc: 0.9407\n",
      "Epoch 8/10\n",
      "156060/156060 [==============================] - 116s 740us/sample - loss: 0.6830 - categorical_accuracy: 0.7184 - precision: 0.7421 - recall: 0.6782 - auc: 0.9378 - val_loss: 0.6396 - val_categorical_accuracy: 0.7380 - val_precision: 0.7629 - val_recall: 0.6981 - val_auc: 0.9456\n",
      "Epoch 9/10\n",
      "156060/156060 [==============================] - 106s 681us/sample - loss: 0.6673 - categorical_accuracy: 0.7239 - precision: 0.7462 - recall: 0.6868 - auc: 0.9404 - val_loss: 0.6284 - val_categorical_accuracy: 0.7436 - val_precision: 0.7688 - val_recall: 0.7024 - val_auc: 0.9481\n",
      "Epoch 10/10\n",
      "156060/156060 [==============================] - 40s 254us/sample - loss: 0.6526 - categorical_accuracy: 0.7283 - precision: 0.7489 - recall: 0.6946 - auc: 0.9428 - val_loss: 0.6120 - val_categorical_accuracy: 0.7487 - val_precision: 0.7738 - val_recall: 0.7083 - val_auc: 0.9502\n"
     ]
    }
   ],
   "source": [
    "history_lstm = model_lstm.fit(X_train, y_train, epochs=10, batch_size=2048, validation_data=(X_train, y_train), callbacks=[tensorboard_callback])"
   ]
  },
  {
   "cell_type": "code",
   "execution_count": 23,
   "metadata": {},
   "outputs": [],
   "source": [
    "%load_ext tensorboard"
   ]
  },
  {
   "cell_type": "code",
   "execution_count": 25,
   "metadata": {},
   "outputs": [
    {
     "data": {
      "text/plain": [
       "Reusing TensorBoard on port 6006 (pid 18800), started 2:16:02 ago. (Use '!kill 18800' to kill it.)"
      ]
     },
     "metadata": {},
     "output_type": "display_data"
    },
    {
     "data": {
      "text/html": [
       "\n",
       "      <iframe id=\"tensorboard-frame-f6bdaa8018a12ab8\" width=\"100%\" height=\"800\" frameborder=\"0\">\n",
       "      </iframe>\n",
       "      <script>\n",
       "        (function() {\n",
       "          const frame = document.getElementById(\"tensorboard-frame-f6bdaa8018a12ab8\");\n",
       "          const url = new URL(\"/\", window.location);\n",
       "          url.port = 6006;\n",
       "          frame.src = url;\n",
       "        })();\n",
       "      </script>\n",
       "  "
      ],
      "text/plain": [
       "<IPython.core.display.HTML object>"
      ]
     },
     "metadata": {},
     "output_type": "display_data"
    }
   ],
   "source": [
    "%tensorboard --logdir .logs"
   ]
  },
  {
   "cell_type": "code",
   "execution_count": 26,
   "metadata": {},
   "outputs": [],
   "source": [
    "y = model_lstm.predict_classes(X_test)"
   ]
  },
  {
   "cell_type": "code",
   "execution_count": 27,
   "metadata": {},
   "outputs": [],
   "source": [
    "u = numpy.unique(y, return_counts=True)"
   ]
  },
  {
   "cell_type": "code",
   "execution_count": 28,
   "metadata": {},
   "outputs": [
    {
     "data": {
      "image/png": "[encoded data removed]",
      "text/plain": [
       "<Figure size 1440x864 with 1 Axes>"
      ]
     },
     "metadata": {},
     "output_type": "display_data"
    }
   ],
   "source": [
    "_, axis = pyplot.subplots(figsize=(20, 12))\n",
    "seaborn.barplot(x=u[0], y=u[1])\n",
    "axis.set_ylabel(\"Frequence\", fontsize=15)\n",
    "axis.set_xlabel(\"Class\", fontsize=15)\n",
    "pyplot.show()"
   ]
  },
  {
   "cell_type": "code",
   "execution_count": 29,
   "metadata": {},
   "outputs": [],
   "source": [
    "l = []\n",
    "for layer in model_lstm.layers:\n",
    "    if isinstance(layer, layers.RNN):\n",
    "        l.append(tensorflow.reshape(layer.cell.kernel, (-1,))[tensorflow.reshape(layer.cell.trainable_channels, (-1,)) == 1])\n",
    "        l.append(tensorflow.reshape(layer.cell.recurrent_kernel, (-1,))[tensorflow.reshape(layer.cell.trainable_recurrent_channels, (-1,)) == 1])\n",
    "        l.append(tensorflow.reshape(layer.cell.bias, (-1,))[tensorflow.reshape(layer.cell.trainable_bias, (-1,)) == 1])\n",
    "    elif isinstance(layer, layers.Dense):\n",
    "        l.append(tensorflow.reshape(layer.kernel, (-1,))[tensorflow.reshape(layer.trainable_channels, (-1,)) == 1])\n",
    "        l.append(tensorflow.reshape(layer.bias, (-1,))[tensorflow.reshape(layer.trainable_bias, (-1,)) == 1])"
   ]
  },
  {
   "cell_type": "code",
   "execution_count": 30,
   "metadata": {},
   "outputs": [],
   "source": [
    "s = tensorflow.sort(tensorflow.concat(l, axis=-1))\n",
    "p = int(numpy.floor((7. / 10.) * len(s)))\n",
    "threshold = s[p].numpy()"
   ]
  },
  {
   "cell_type": "code",
   "execution_count": 31,
   "metadata": {},
   "outputs": [],
   "source": [
    "for layer in model_lstm.layers:\n",
    "    if isinstance(layer, layers.RNN):\n",
    "        indices_kernel = tensorflow.where(layer.cell.kernel < threshold)\n",
    "        indices_bias = tensorflow.where(layer.cell.bias < threshold)\n",
    "        indices_recurrent = tensorflow.where(layer.cell.recurrent_kernel < threshold)\n",
    "        t1 = tensorflow.tensor_scatter_nd_update(tensorflow.ones(layer.cell.kernel.shape), indices_kernel, tensorflow.zeros(len(indices_kernel)))\n",
    "        t2 = tensorflow.tensor_scatter_nd_update(tensorflow.ones(layer.cell.recurrent_kernel.shape), indices_recurrent, tensorflow.zeros(len(indices_recurrent)))\n",
    "        t3 = tensorflow.tensor_scatter_nd_update(tensorflow.ones(layer.cell.bias.shape), indices_bias, tensorflow.zeros(len(indices_bias)))\n",
    "        layer.cell.prune_kernel(t1)\n",
    "        layer.cell.prune_recurrent_kernel(t2)\n",
    "        layer.cell.prune_bias(t3)\n",
    "    elif isinstance(layer, layers.Dense):\n",
    "        indices_kernel = tensorflow.where(layer.kernel < threshold)\n",
    "        indices_bias = tensorflow.where(layer.bias < threshold)\n",
    "        t1 = tensorflow.tensor_scatter_nd_update(tensorflow.ones(layer.kernel.shape), indices_kernel, tensorflow.zeros(len(indices_kernel)))\n",
    "        t2 = tensorflow.tensor_scatter_nd_update(tensorflow.ones(layer.bias.shape), indices_bias, tensorflow.zeros(len(indices_bias)))\n",
    "        layer.prune_kernel(t1)\n",
    "        layer.prune_bias(t2)"
   ]
  },
  {
   "cell_type": "code",
   "execution_count": 34,
   "metadata": {},
   "outputs": [],
   "source": [
    "!rm -rf ./.logs/"
   ]
  },
  {
   "cell_type": "code",
   "execution_count": 35,
   "metadata": {},
   "outputs": [],
   "source": [
    "for layer in model_lstm.layers:\n",
    "    if isinstance(layer, layers.RNN):\n",
    "        layer.cell.restore_kernel()\n",
    "        layer.cell.restore_recurrent_kernel()\n",
    "        layer.cell.restore_bias()\n",
    "    elif isinstance(layer, layers.Dense):\n",
    "        layer.restore_kernel()\n",
    "        layer.restore_bias()"
   ]
  },
  {
   "cell_type": "code",
   "execution_count": 36,
   "metadata": {},
   "outputs": [
    {
     "name": "stdout",
     "output_type": "stream",
     "text": [
      "Train on 156060 samples, validate on 156060 samples\n",
      "Epoch 1/10\n",
      "156060/156060 [==============================] - 39s 253us/sample - loss: 1.0431 - categorical_accuracy: 0.5859 - precision: 0.6940 - recall: 0.4233 - auc: 0.8599 - val_loss: 0.7421 - val_categorical_accuracy: 0.6942 - val_precision: 0.7289 - val_recall: 0.6326 - val_auc: 0.9280\n",
      "Epoch 2/10\n",
      "156060/156060 [==============================] - 40s 259us/sample - loss: 0.7080 - categorical_accuracy: 0.7087 - precision: 0.7381 - recall: 0.6600 - auc: 0.9337 - val_loss: 0.6427 - val_categorical_accuracy: 0.7341 - val_precision: 0.7601 - val_recall: 0.6938 - val_auc: 0.9448\n",
      "Epoch 3/10\n",
      "156060/156060 [==============================] - 41s 260us/sample - loss: 0.6588 - categorical_accuracy: 0.7256 - precision: 0.7495 - recall: 0.6865 - auc: 0.9418 - val_loss: 0.6224 - val_categorical_accuracy: 0.7437 - val_precision: 0.7698 - val_recall: 0.6990 - val_auc: 0.9480\n",
      "Epoch 4/10\n",
      "156060/156060 [==============================] - 42s 267us/sample - loss: 0.6413 - categorical_accuracy: 0.7331 - precision: 0.7537 - recall: 0.6989 - auc: 0.9446 - val_loss: 0.5986 - val_categorical_accuracy: 0.7527 - val_precision: 0.7766 - val_recall: 0.7135 - val_auc: 0.9521\n",
      "Epoch 5/10\n",
      "156060/156060 [==============================] - 42s 267us/sample - loss: 0.6277 - categorical_accuracy: 0.7360 - precision: 0.7563 - recall: 0.7055 - auc: 0.9467 - val_loss: 0.5986 - val_categorical_accuracy: 0.7525 - val_precision: 0.7755 - val_recall: 0.7173 - val_auc: 0.9523\n",
      "Epoch 6/10\n",
      "156060/156060 [==============================] - 41s 263us/sample - loss: 0.6183 - categorical_accuracy: 0.7399 - precision: 0.7596 - recall: 0.7097 - auc: 0.9482 - val_loss: 0.5764 - val_categorical_accuracy: 0.7610 - val_precision: 0.7839 - val_recall: 0.7261 - val_auc: 0.9559\n",
      "Epoch 7/10\n",
      "156060/156060 [==============================] - 40s 256us/sample - loss: 0.6046 - categorical_accuracy: 0.7445 - precision: 0.7627 - recall: 0.7166 - auc: 0.9503 - val_loss: 0.5642 - val_categorical_accuracy: 0.7651 - val_precision: 0.7864 - val_recall: 0.7321 - val_auc: 0.9576\n",
      "Epoch 8/10\n",
      "156060/156060 [==============================] - 39s 252us/sample - loss: 0.5952 - categorical_accuracy: 0.7473 - precision: 0.7652 - recall: 0.7202 - auc: 0.9517 - val_loss: 0.5523 - val_categorical_accuracy: 0.7683 - val_precision: 0.7856 - val_recall: 0.7420 - val_auc: 0.9587\n",
      "Epoch 9/10\n",
      "156060/156060 [==============================] - 40s 256us/sample - loss: 0.5838 - categorical_accuracy: 0.7515 - precision: 0.7687 - recall: 0.7264 - auc: 0.9534 - val_loss: 0.5437 - val_categorical_accuracy: 0.7720 - val_precision: 0.7907 - val_recall: 0.7443 - val_auc: 0.9601\n",
      "Epoch 10/10\n",
      "156060/156060 [==============================] - 40s 256us/sample - loss: 0.5745 - categorical_accuracy: 0.7546 - precision: 0.7713 - recall: 0.7300 - auc: 0.9547 - val_loss: 0.5315 - val_categorical_accuracy: 0.7761 - val_precision: 0.7946 - val_recall: 0.7502 - val_auc: 0.9618\n"
     ]
    }
   ],
   "source": [
    "history_lstm = model_lstm.fit(X_train, y_train, epochs=10, batch_size=2048, validation_data=(X_train, y_train), callbacks=[tensorboard_callback])"
   ]
  },
  {
   "cell_type": "code",
   "execution_count": 37,
   "metadata": {},
   "outputs": [
    {
     "data": {
      "text/plain": [
       "Reusing TensorBoard on port 6006 (pid 18800), started 2:28:14 ago. (Use '!kill 18800' to kill it.)"
      ]
     },
     "metadata": {},
     "output_type": "display_data"
    },
    {
     "data": {
      "text/html": [
       "\n",
       "      <iframe id=\"tensorboard-frame-88fe45dd32ab9c69\" width=\"100%\" height=\"800\" frameborder=\"0\">\n",
       "      </iframe>\n",
       "      <script>\n",
       "        (function() {\n",
       "          const frame = document.getElementById(\"tensorboard-frame-88fe45dd32ab9c69\");\n",
       "          const url = new URL(\"/\", window.location);\n",
       "          url.port = 6006;\n",
       "          frame.src = url;\n",
       "        })();\n",
       "      </script>\n",
       "  "
      ],
      "text/plain": [
       "<IPython.core.display.HTML object>"
      ]
     },
     "metadata": {},
     "output_type": "display_data"
    }
   ],
   "source": [
    "%tensorboard --logdir .logs"
   ]
  },
  {
   "cell_type": "code",
   "execution_count": 38,
   "metadata": {},
   "outputs": [],
   "source": [
    "y = model_lstm.predict_classes(X_test)"
   ]
  },
  {
   "cell_type": "code",
   "execution_count": 39,
   "metadata": {},
   "outputs": [],
   "source": [
    "u = numpy.unique(y, return_counts=True)"
   ]
  },
  {
   "cell_type": "code",
   "execution_count": 40,
   "metadata": {},
   "outputs": [
    {
     "data": {
      "image/png": "[encoded data removed]",
      "text/plain": [
       "<Figure size 1440x864 with 1 Axes>"
      ]
     },
     "metadata": {},
     "output_type": "display_data"
    }
   ],
   "source": [
    "_, axis = pyplot.subplots(figsize=(20, 12))\n",
    "seaborn.barplot(x=u[0], y=u[1])\n",
    "axis.set_ylabel(\"Frequence\", fontsize=15)\n",
    "axis.set_xlabel(\"Class\", fontsize=15)\n",
    "pyplot.show()"
   ]
  },
  {
   "cell_type": "code",
   "execution_count": 32,
   "metadata": {},
   "outputs": [
    {
     "name": "stdout",
     "output_type": "stream",
     "text": [
      "Model: \"sequential_2\"\n",
      "_________________________________________________________________\n",
      "Layer (type)                 Output Shape              Param #   \n",
      "=================================================================\n",
      "embedding_2 (Embedding)      (None, 53, 256)           2097152   \n",
      "_________________________________________________________________\n",
      "prunable_gru_1 (PrunableGRU) (None, 256)               394752    \n",
      "_________________________________________________________________\n",
      "prunable_dense_10 (PrunableD (None, 256)               65792     \n",
      "_________________________________________________________________\n",
      "prunable_dense_11 (PrunableD (None, 128)               32896     \n",
      "_________________________________________________________________\n",
      "prunable_dense_12 (PrunableD (None, 64)                8256      \n",
      "_________________________________________________________________\n",
      "prunable_dense_13 (PrunableD (None, 32)                2080      \n",
      "_________________________________________________________________\n",
      "prunable_dense_14 (PrunableD (None, 5)                 165       \n",
      "=================================================================\n",
      "Total params: 2,601,093\n",
      "Trainable params: 2,601,093\n",
      "Non-trainable params: 0\n",
      "_________________________________________________________________\n"
     ]
    }
   ],
   "source": [
    "metrics_list = [metrics.CategoricalAccuracy(), metrics.Precision(), metrics.Recall(), metrics.AUC()]\n",
    "model_gru = models.Sequential()\n",
    "model_gru.add(layers.Embedding(input_dim=max_words, output_dim=256, input_length=max_phrase_len))\n",
    "model_gru.add(prunable_layers.PrunableGRU(256, activation=activations.tanh))\n",
    "model_gru.add(prunable_layers.PrunableDense(256, activation=activations.relu))\n",
    "model_gru.add(prunable_layers.PrunableDense(128, activation=activations.relu))\n",
    "model_gru.add(prunable_layers.PrunableDense(64, activation=activations.relu))\n",
    "model_gru.add(prunable_layers.PrunableDense(32, activation=activations.relu))\n",
    "model_gru.add(prunable_layers.PrunableDense(5, activation=activations.softmax))\n",
    "model_gru.compile(loss=losses.CategoricalCrossentropy(), optimizer=optimizers.Adam(learning_rate=0.001), metrics=metrics_list)\n",
    "model_gru.summary()"
   ]
  },
  {
   "cell_type": "code",
   "execution_count": 33,
   "metadata": {},
   "outputs": [],
   "source": [
    "!rm -rf ./logs/"
   ]
  },
  {
   "cell_type": "code",
   "execution_count": 34,
   "metadata": {},
   "outputs": [],
   "source": [
    "logdir = os.path.join(\"logs\", datetime.now().strftime(\"%Y%m%d-%H%M%S\"))\n",
    "tensorboard_callback = callbacks.TensorBoard(log_dir=logdir, histogram_freq=1)"
   ]
  },
  {
   "cell_type": "code",
   "execution_count": 35,
   "metadata": {},
   "outputs": [
    {
     "name": "stdout",
     "output_type": "stream",
     "text": [
      "Train on 156060 samples, validate on 156060 samples\n",
      "Epoch 1/10\n",
      "156060/156060 [==============================] - 122s 780us/sample - loss: 1.1881 - categorical_accuracy: 0.5242 - precision_1: 0.6875 - recall_1: 0.3450 - auc_1: 0.8109 - val_loss: 1.0299 - val_categorical_accuracy: 0.5797 - val_precision_1: 0.7248 - val_recall_1: 0.4414 - val_auc_1: 0.8619\n",
      "Epoch 2/10\n",
      "156060/156060 [==============================] - 117s 747us/sample - loss: 0.9072 - categorical_accuracy: 0.6344 - precision_1: 0.7079 - recall_1: 0.5199 - auc_1: 0.8943 - val_loss: 0.8049 - val_categorical_accuracy: 0.6736 - val_precision_1: 0.7232 - val_recall_1: 0.5866 - val_auc_1: 0.9161\n",
      "Epoch 3/10\n",
      "156060/156060 [==============================] - 121s 776us/sample - loss: 0.8052 - categorical_accuracy: 0.6738 - precision_1: 0.7166 - recall_1: 0.6000 - auc_1: 0.9159 - val_loss: 0.7515 - val_categorical_accuracy: 0.6964 - val_precision_1: 0.7399 - val_recall_1: 0.6190 - val_auc_1: 0.9266\n",
      "Epoch 4/10\n",
      "156060/156060 [==============================] - 46s 295us/sample - loss: 0.7638 - categorical_accuracy: 0.6903 - precision_1: 0.7238 - recall_1: 0.6304 - auc_1: 0.9238 - val_loss: 0.7106 - val_categorical_accuracy: 0.7140 - val_precision_1: 0.7467 - val_recall_1: 0.6569 - val_auc_1: 0.9342\n",
      "Epoch 5/10\n",
      "156060/156060 [==============================] - 39s 250us/sample - loss: 0.7349 - categorical_accuracy: 0.6994 - precision_1: 0.7292 - recall_1: 0.6508 - auc_1: 0.9290 - val_loss: 0.6915 - val_categorical_accuracy: 0.7200 - val_precision_1: 0.7498 - val_recall_1: 0.6700 - val_auc_1: 0.9371\n",
      "Epoch 6/10\n",
      "156060/156060 [==============================] - 39s 252us/sample - loss: 0.7128 - categorical_accuracy: 0.7074 - precision_1: 0.7342 - recall_1: 0.6634 - auc_1: 0.9328 - val_loss: 0.6642 - val_categorical_accuracy: 0.7293 - val_precision_1: 0.7543 - val_recall_1: 0.6869 - val_auc_1: 0.9415\n",
      "Epoch 7/10\n",
      "156060/156060 [==============================] - 39s 253us/sample - loss: 0.6899 - categorical_accuracy: 0.7166 - precision_1: 0.7403 - recall_1: 0.6764 - auc_1: 0.9367 - val_loss: 0.6516 - val_categorical_accuracy: 0.7295 - val_precision_1: 0.7469 - val_recall_1: 0.7027 - val_auc_1: 0.9432\n",
      "Epoch 8/10\n",
      "156060/156060 [==============================] - 40s 255us/sample - loss: 0.6736 - categorical_accuracy: 0.7214 - precision_1: 0.7433 - recall_1: 0.6852 - auc_1: 0.9394 - val_loss: 0.6259 - val_categorical_accuracy: 0.7456 - val_precision_1: 0.7717 - val_recall_1: 0.7004 - val_auc_1: 0.9480\n",
      "Epoch 9/10\n",
      "156060/156060 [==============================] - 40s 253us/sample - loss: 0.6529 - categorical_accuracy: 0.7290 - precision_1: 0.7491 - recall_1: 0.6966 - auc_1: 0.9428 - val_loss: 0.6062 - val_categorical_accuracy: 0.7527 - val_precision_1: 0.7767 - val_recall_1: 0.7133 - val_auc_1: 0.9510\n",
      "Epoch 10/10\n",
      "156060/156060 [==============================] - 40s 254us/sample - loss: 0.6384 - categorical_accuracy: 0.7342 - precision_1: 0.7537 - recall_1: 0.7038 - auc_1: 0.9451 - val_loss: 0.5924 - val_categorical_accuracy: 0.7564 - val_precision_1: 0.7783 - val_recall_1: 0.7218 - val_auc_1: 0.9535\n"
     ]
    }
   ],
   "source": [
    "history = model_gru.fit(X_train, y_train, epochs=10, batch_size=2048, validation_data=(X_train, y_train), callbacks=[tensorboard_callback])"
   ]
  },
  {
   "cell_type": "code",
   "execution_count": 37,
   "metadata": {},
   "outputs": [],
   "source": [
    "%reload_ext tensorboard"
   ]
  },
  {
   "cell_type": "code",
   "execution_count": 39,
   "metadata": {},
   "outputs": [
    {
     "data": {
      "text/plain": [
       "Reusing TensorBoard on port 6006 (pid 10140), started 1 day, 16:47:23 ago. (Use '!kill 10140' to kill it.)"
      ]
     },
     "metadata": {},
     "output_type": "display_data"
    },
    {
     "data": {
      "text/html": [
       "\n",
       "      <iframe id=\"tensorboard-frame-475b39a6a379cc88\" width=\"100%\" height=\"800\" frameborder=\"0\">\n",
       "      </iframe>\n",
       "      <script>\n",
       "        (function() {\n",
       "          const frame = document.getElementById(\"tensorboard-frame-475b39a6a379cc88\");\n",
       "          const url = new URL(\"/\", window.location);\n",
       "          url.port = 6006;\n",
       "          frame.src = url;\n",
       "        })();\n",
       "      </script>\n",
       "  "
      ],
      "text/plain": [
       "<IPython.core.display.HTML object>"
      ]
     },
     "metadata": {},
     "output_type": "display_data"
    }
   ],
   "source": [
    "%tensorboard --logdir logs"
   ]
  },
  {
   "cell_type": "code",
   "execution_count": 40,
   "metadata": {},
   "outputs": [],
   "source": [
    "y = model_gru.predict_classes(X_test)"
   ]
  },
  {
   "cell_type": "code",
   "execution_count": 41,
   "metadata": {},
   "outputs": [],
   "source": [
    "u = numpy.unique(y, return_counts=True)"
   ]
  },
  {
   "cell_type": "code",
   "execution_count": 42,
   "metadata": {},
   "outputs": [
    {
     "data": {
      "image/png": "[encoded data removed]",
      "text/plain": [
       "<Figure size 1440x864 with 1 Axes>"
      ]
     },
     "metadata": {},
     "output_type": "display_data"
    }
   ],
   "source": [
    "_, axis = pyplot.subplots(figsize=(20, 12))\n",
    "seaborn.barplot(x=u[0], y=u[1])\n",
    "axis.set_ylabel(\"Frequence\", fontsize=15)\n",
    "axis.set_xlabel(\"Class\", fontsize=15)\n",
    "pyplot.show()"
   ]
  },
  {
   "cell_type": "code",
   "execution_count": null,
   "metadata": {},
   "outputs": [],
   "source": []
  }
 ],
 "metadata": {
  "kernelspec": {
   "display_name": "Python 3",
   "language": "python",
   "name": "python3"
  },
  "language_info": {
   "codemirror_mode": {
    "name": "ipython",
    "version": 3
   },
   "file_extension": ".py",
   "mimetype": "text/x-python",
   "name": "python",
   "nbconvert_exporter": "python",
   "pygments_lexer": "ipython3",
   "version": "3.7.4"
  }
 },
 "nbformat": 4,
 "nbformat_minor": 4
}
