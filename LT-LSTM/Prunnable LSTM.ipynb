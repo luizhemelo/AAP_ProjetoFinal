{
 "cells": [
  {
   "cell_type": "code",
   "execution_count": 1,
   "metadata": {},
   "outputs": [],
   "source": [
    "from custom_lstm import CustomLSTM"
   ]
  },
  {
   "cell_type": "code",
   "execution_count": 2,
   "metadata": {},
   "outputs": [],
   "source": [
    "import os\n",
    "import numpy\n",
    "import pandas\n",
    "import seaborn\n",
    "import tensorflow\n",
    "from datetime import datetime\n",
    "from matplotlib import pyplot\n",
    "from tensorflow import losses, metrics\n",
    "from tensorflow.keras import layers, models, utils, preprocessing, activations, optimizers, callbacks"
   ]
  },
  {
   "cell_type": "code",
   "execution_count": 3,
   "metadata": {},
   "outputs": [],
   "source": [
    "#Tries to enable dynamic memory allocation on GP\n",
    "try:\n",
    "    for i in tensorflow.config.experimental.list_physical_devices(\"GPU\"):\n",
    "        tensorflow.config.experimental.set_memory_growth(i, True)\n",
    "except:\n",
    "    print(\"Device dynamic memory allocation failed!\")"
   ]
  },
  {
   "cell_type": "code",
   "execution_count": 4,
   "metadata": {},
   "outputs": [],
   "source": [
    "seaborn.set_style(\"darkgrid\")"
   ]
  },
  {
   "cell_type": "code",
   "execution_count": 5,
   "metadata": {},
   "outputs": [
    {
     "name": "stdout",
     "output_type": "stream",
     "text": [
      "train set: (156060, 4)\n"
     ]
    },
    {
     "data": {
      "text/html": [
       "<div>\n",
       "<style scoped>\n",
       "    .dataframe tbody tr th:only-of-type {\n",
       "        vertical-align: middle;\n",
       "    }\n",
       "\n",
       "    .dataframe tbody tr th {\n",
       "        vertical-align: top;\n",
       "    }\n",
       "\n",
       "    .dataframe thead th {\n",
       "        text-align: right;\n",
       "    }\n",
       "</style>\n",
       "<table border=\"1\" class=\"dataframe\">\n",
       "  <thead>\n",
       "    <tr style=\"text-align: right;\">\n",
       "      <th></th>\n",
       "      <th>PhraseId</th>\n",
       "      <th>SentenceId</th>\n",
       "      <th>Phrase</th>\n",
       "      <th>Sentiment</th>\n",
       "    </tr>\n",
       "  </thead>\n",
       "  <tbody>\n",
       "    <tr>\n",
       "      <th>0</th>\n",
       "      <td>1</td>\n",
       "      <td>1</td>\n",
       "      <td>A series of escapades demonstrating the adage ...</td>\n",
       "      <td>1</td>\n",
       "    </tr>\n",
       "    <tr>\n",
       "      <th>1</th>\n",
       "      <td>2</td>\n",
       "      <td>1</td>\n",
       "      <td>A series of escapades demonstrating the adage ...</td>\n",
       "      <td>2</td>\n",
       "    </tr>\n",
       "    <tr>\n",
       "      <th>2</th>\n",
       "      <td>3</td>\n",
       "      <td>1</td>\n",
       "      <td>A series</td>\n",
       "      <td>2</td>\n",
       "    </tr>\n",
       "    <tr>\n",
       "      <th>3</th>\n",
       "      <td>4</td>\n",
       "      <td>1</td>\n",
       "      <td>A</td>\n",
       "      <td>2</td>\n",
       "    </tr>\n",
       "    <tr>\n",
       "      <th>4</th>\n",
       "      <td>5</td>\n",
       "      <td>1</td>\n",
       "      <td>series</td>\n",
       "      <td>2</td>\n",
       "    </tr>\n",
       "    <tr>\n",
       "      <th>5</th>\n",
       "      <td>6</td>\n",
       "      <td>1</td>\n",
       "      <td>of escapades demonstrating the adage that what...</td>\n",
       "      <td>2</td>\n",
       "    </tr>\n",
       "    <tr>\n",
       "      <th>6</th>\n",
       "      <td>7</td>\n",
       "      <td>1</td>\n",
       "      <td>of</td>\n",
       "      <td>2</td>\n",
       "    </tr>\n",
       "    <tr>\n",
       "      <th>7</th>\n",
       "      <td>8</td>\n",
       "      <td>1</td>\n",
       "      <td>escapades demonstrating the adage that what is...</td>\n",
       "      <td>2</td>\n",
       "    </tr>\n",
       "    <tr>\n",
       "      <th>8</th>\n",
       "      <td>9</td>\n",
       "      <td>1</td>\n",
       "      <td>escapades</td>\n",
       "      <td>2</td>\n",
       "    </tr>\n",
       "    <tr>\n",
       "      <th>9</th>\n",
       "      <td>10</td>\n",
       "      <td>1</td>\n",
       "      <td>demonstrating the adage that what is good for ...</td>\n",
       "      <td>2</td>\n",
       "    </tr>\n",
       "  </tbody>\n",
       "</table>\n",
       "</div>"
      ],
      "text/plain": [
       "   PhraseId  SentenceId                                             Phrase  \\\n",
       "0         1           1  A series of escapades demonstrating the adage ...   \n",
       "1         2           1  A series of escapades demonstrating the adage ...   \n",
       "2         3           1                                           A series   \n",
       "3         4           1                                                  A   \n",
       "4         5           1                                             series   \n",
       "5         6           1  of escapades demonstrating the adage that what...   \n",
       "6         7           1                                                 of   \n",
       "7         8           1  escapades demonstrating the adage that what is...   \n",
       "8         9           1                                          escapades   \n",
       "9        10           1  demonstrating the adage that what is good for ...   \n",
       "\n",
       "   Sentiment  \n",
       "0          1  \n",
       "1          2  \n",
       "2          2  \n",
       "3          2  \n",
       "4          2  \n",
       "5          2  \n",
       "6          2  \n",
       "7          2  \n",
       "8          2  \n",
       "9          2  "
      ]
     },
     "execution_count": 5,
     "metadata": {},
     "output_type": "execute_result"
    }
   ],
   "source": [
    "df_train = pandas.read_csv(\"train.tsv\", sep='\\t')\n",
    "print(\"train set: {0}\".format(df_train.shape))\n",
    "df_train.head(10)"
   ]
  },
  {
   "cell_type": "code",
   "execution_count": 6,
   "metadata": {},
   "outputs": [
    {
     "name": "stdout",
     "output_type": "stream",
     "text": [
      "test set: (66292, 3)\n"
     ]
    },
    {
     "data": {
      "text/html": [
       "<div>\n",
       "<style scoped>\n",
       "    .dataframe tbody tr th:only-of-type {\n",
       "        vertical-align: middle;\n",
       "    }\n",
       "\n",
       "    .dataframe tbody tr th {\n",
       "        vertical-align: top;\n",
       "    }\n",
       "\n",
       "    .dataframe thead th {\n",
       "        text-align: right;\n",
       "    }\n",
       "</style>\n",
       "<table border=\"1\" class=\"dataframe\">\n",
       "  <thead>\n",
       "    <tr style=\"text-align: right;\">\n",
       "      <th></th>\n",
       "      <th>PhraseId</th>\n",
       "      <th>SentenceId</th>\n",
       "      <th>Phrase</th>\n",
       "    </tr>\n",
       "  </thead>\n",
       "  <tbody>\n",
       "    <tr>\n",
       "      <th>0</th>\n",
       "      <td>156061</td>\n",
       "      <td>8545</td>\n",
       "      <td>An intermittently pleasing but mostly routine ...</td>\n",
       "    </tr>\n",
       "    <tr>\n",
       "      <th>1</th>\n",
       "      <td>156062</td>\n",
       "      <td>8545</td>\n",
       "      <td>An intermittently pleasing but mostly routine ...</td>\n",
       "    </tr>\n",
       "    <tr>\n",
       "      <th>2</th>\n",
       "      <td>156063</td>\n",
       "      <td>8545</td>\n",
       "      <td>An</td>\n",
       "    </tr>\n",
       "    <tr>\n",
       "      <th>3</th>\n",
       "      <td>156064</td>\n",
       "      <td>8545</td>\n",
       "      <td>intermittently pleasing but mostly routine effort</td>\n",
       "    </tr>\n",
       "    <tr>\n",
       "      <th>4</th>\n",
       "      <td>156065</td>\n",
       "      <td>8545</td>\n",
       "      <td>intermittently pleasing but mostly routine</td>\n",
       "    </tr>\n",
       "    <tr>\n",
       "      <th>5</th>\n",
       "      <td>156066</td>\n",
       "      <td>8545</td>\n",
       "      <td>intermittently pleasing but</td>\n",
       "    </tr>\n",
       "    <tr>\n",
       "      <th>6</th>\n",
       "      <td>156067</td>\n",
       "      <td>8545</td>\n",
       "      <td>intermittently pleasing</td>\n",
       "    </tr>\n",
       "    <tr>\n",
       "      <th>7</th>\n",
       "      <td>156068</td>\n",
       "      <td>8545</td>\n",
       "      <td>intermittently</td>\n",
       "    </tr>\n",
       "    <tr>\n",
       "      <th>8</th>\n",
       "      <td>156069</td>\n",
       "      <td>8545</td>\n",
       "      <td>pleasing</td>\n",
       "    </tr>\n",
       "    <tr>\n",
       "      <th>9</th>\n",
       "      <td>156070</td>\n",
       "      <td>8545</td>\n",
       "      <td>but</td>\n",
       "    </tr>\n",
       "  </tbody>\n",
       "</table>\n",
       "</div>"
      ],
      "text/plain": [
       "   PhraseId  SentenceId                                             Phrase\n",
       "0    156061        8545  An intermittently pleasing but mostly routine ...\n",
       "1    156062        8545  An intermittently pleasing but mostly routine ...\n",
       "2    156063        8545                                                 An\n",
       "3    156064        8545  intermittently pleasing but mostly routine effort\n",
       "4    156065        8545         intermittently pleasing but mostly routine\n",
       "5    156066        8545                        intermittently pleasing but\n",
       "6    156067        8545                            intermittently pleasing\n",
       "7    156068        8545                                     intermittently\n",
       "8    156069        8545                                           pleasing\n",
       "9    156070        8545                                                but"
      ]
     },
     "execution_count": 6,
     "metadata": {},
     "output_type": "execute_result"
    }
   ],
   "source": [
    "df_test = pandas.read_csv('test.tsv', sep='\\t')\n",
    "print('test set: {0}'.format(df_test.shape))\n",
    "df_test.head(10)"
   ]
  },
  {
   "cell_type": "code",
   "execution_count": 7,
   "metadata": {},
   "outputs": [],
   "source": [
    "replace_list = {r\"i'm\": 'i am', r\"'re\": ' are', r\"let’s\": 'let us', r\"'s\":  ' is', r\"'ve\": ' have', r\"can't\": 'can not', r\"cannot\": 'can not', r\"shan’t\": 'shall not', r\"n't\": ' not',\n",
    "                r\"'d\": ' would', r\"'ll\": ' will', r\"'scuse\": 'excuse', ',': ' ,', '.': ' .', '!': ' !', '?': ' ?', '\\s+': ' '}"
   ]
  },
  {
   "cell_type": "code",
   "execution_count": 8,
   "metadata": {},
   "outputs": [],
   "source": [
    "def clean_text(text):\n",
    "    text = text.lower()\n",
    "    for s in replace_list:\n",
    "        text = text.replace(s, replace_list[s])\n",
    "    text = ' '.join(text.split())\n",
    "    return text"
   ]
  },
  {
   "cell_type": "code",
   "execution_count": 9,
   "metadata": {},
   "outputs": [],
   "source": [
    "X_train = df_train[\"Phrase\"].apply(lambda p: clean_text(p))\n",
    "X_test = df_test[\"Phrase\"].apply(lambda p: clean_text(p))"
   ]
  },
  {
   "cell_type": "code",
   "execution_count": 10,
   "metadata": {},
   "outputs": [
    {
     "name": "stdout",
     "output_type": "stream",
     "text": [
      "max phrase len: 53\n"
     ]
    }
   ],
   "source": [
    "phrase_len = X_train.apply(lambda p: len(p.split(' ')))\n",
    "max_phrase_len = phrase_len.max()\n",
    "print('max phrase len: {0}'.format(max_phrase_len))"
   ]
  },
  {
   "cell_type": "code",
   "execution_count": 11,
   "metadata": {},
   "outputs": [
    {
     "data": {
      "image/png": "[encoded data removed]",
      "text/plain": [
       "<Figure size 1440x864 with 1 Axes>"
      ]
     },
     "metadata": {},
     "output_type": "display_data"
    }
   ],
   "source": [
    "_, axis = pyplot.subplots(figsize=(20, 12))\n",
    "seaborn.distplot(phrase_len, kde=False, norm_hist=True)\n",
    "axis.set_ylabel(\"Probability\", fontsize=15)\n",
    "axis.set_xlabel(\"Phrase Length\", fontsize=15)\n",
    "pyplot.show()"
   ]
  },
  {
   "cell_type": "code",
   "execution_count": 12,
   "metadata": {},
   "outputs": [],
   "source": [
    "y_train = df_train['Sentiment']"
   ]
  },
  {
   "cell_type": "code",
   "execution_count": 13,
   "metadata": {},
   "outputs": [],
   "source": [
    "max_words = 8192\n",
    "tokenizer = preprocessing.text.Tokenizer(num_words=max_words, filters='\"#$%&()*+-/:;<=>@[\\]^_`{|}~')\n",
    "tokenizer.fit_on_texts(X_train)\n",
    "X_train = tokenizer.texts_to_sequences(X_train)\n",
    "X_train = preprocessing.sequence.pad_sequences(X_train, maxlen=max_phrase_len)\n",
    "y_train = utils.to_categorical(y_train)"
   ]
  },
  {
   "cell_type": "code",
   "execution_count": 14,
   "metadata": {},
   "outputs": [],
   "source": [
    "u = numpy.unique(y_train, return_counts=True, axis=0)"
   ]
  },
  {
   "cell_type": "code",
   "execution_count": 15,
   "metadata": {},
   "outputs": [
    {
     "data": {
      "image/png": "[encoded data removed]",
      "text/plain": [
       "<Figure size 1440x864 with 1 Axes>"
      ]
     },
     "metadata": {},
     "output_type": "display_data"
    }
   ],
   "source": [
    "_, axis = pyplot.subplots(figsize=(20, 12))\n",
    "seaborn.barplot(x=[i for i in range(u[0].shape[0])], y=u[1])\n",
    "axis.set_ylabel(\"Frequence\", fontsize=15)\n",
    "axis.set_xlabel(\"Class\", fontsize=15)\n",
    "pyplot.show()"
   ]
  },
  {
   "cell_type": "code",
   "execution_count": 16,
   "metadata": {},
   "outputs": [],
   "source": [
    "test_phrase_len = X_test.apply(lambda p: len(p.split(' ')))\n",
    "test_max_phrase_len = test_phrase_len.max()"
   ]
  },
  {
   "cell_type": "code",
   "execution_count": 17,
   "metadata": {},
   "outputs": [],
   "source": [
    "max_words = 8192\n",
    "tokenizer = preprocessing.text.Tokenizer(num_words=max_words, filters='\"#$%&()*+-/:;<=>@[\\]^_`{|}~')\n",
    "tokenizer.fit_on_texts(X_test)\n",
    "X_test = tokenizer.texts_to_sequences(X_test)\n",
    "X_test = preprocessing.sequence.pad_sequences(X_test, maxlen=max_phrase_len)"
   ]
  },
  {
   "cell_type": "code",
   "execution_count": 18,
   "metadata": {},
   "outputs": [
    {
     "name": "stdout",
     "output_type": "stream",
     "text": [
      "Model: \"sequential\"\n",
      "_________________________________________________________________\n",
      "Layer (type)                 Output Shape              Param #   \n",
      "=================================================================\n",
      "embedding (Embedding)        (None, 53, 256)           2097152   \n",
      "_________________________________________________________________\n",
      "custom_lstm (CustomLSTM)     (None, 256)               525312    \n",
      "_________________________________________________________________\n",
      "dense (Dense)                (None, 256)               65792     \n",
      "_________________________________________________________________\n",
      "dense_1 (Dense)              (None, 128)               32896     \n",
      "_________________________________________________________________\n",
      "dense_2 (Dense)              (None, 64)                8256      \n",
      "_________________________________________________________________\n",
      "dense_3 (Dense)              (None, 32)                2080      \n",
      "_________________________________________________________________\n",
      "dense_4 (Dense)              (None, 5)                 165       \n",
      "=================================================================\n",
      "Total params: 2,731,653\n",
      "Trainable params: 2,731,653\n",
      "Non-trainable params: 0\n",
      "_________________________________________________________________\n"
     ]
    }
   ],
   "source": [
    "metrics_list = [metrics.CategoricalAccuracy(), metrics.Precision(), metrics.Recall(), metrics.AUC()]\n",
    "model_lstm = models.Sequential()\n",
    "model_lstm.add(layers.Embedding(input_dim=max_words, output_dim=256, input_length=max_phrase_len))\n",
    "model_lstm.add(CustomLSTM(256, activation=activations.tanh))\n",
    "model_lstm.add(layers.Dense(256, activation=activations.relu))\n",
    "model_lstm.add(layers.Dense(128, activation=activations.relu))\n",
    "model_lstm.add(layers.Dense(64, activation=activations.relu))\n",
    "model_lstm.add(layers.Dense(32, activation=activations.relu))\n",
    "model_lstm.add(layers.Dense(5, activation=activations.softmax))\n",
    "model_lstm.compile(loss=losses.CategoricalCrossentropy(), optimizer=optimizers.Adam(learning_rate=0.001), metrics=metrics_list)\n",
    "model_lstm.summary()"
   ]
  },
  {
   "cell_type": "code",
   "execution_count": 19,
   "metadata": {},
   "outputs": [],
   "source": [
    "logdir = os.path.join(\"logs\", datetime.now().strftime(\"%Y%m%d-%H%M%S\"))\n",
    "tensorboard_callback = callbacks.TensorBoard(log_dir=logdir)"
   ]
  },
  {
   "cell_type": "code",
   "execution_count": 20,
   "metadata": {},
   "outputs": [
    {
     "name": "stdout",
     "output_type": "stream",
     "text": [
      "Train on 156060 samples, validate on 156060 samples\n",
      "Epoch 1/10\n",
      "  2048/156060 [..............................] - ETA: 4:59 - loss: 1.6104 - categorical_accuracy: 0.1982 - precision: 0.0000e+00 - recall: 0.0000e+00 - auc: 0.5015WARNING:tensorflow:Method (on_train_batch_end) is slow compared to the batch update (0.788293). Check your callbacks.\n",
      "  4096/156060 [..............................] - ETA: 3:27 - loss: 1.6069 - categorical_accuracy: 0.3511 - precision: 0.0000e+00 - recall: 0.0000e+00 - auc: 0.6006WARNING:tensorflow:Method (on_train_batch_end) is slow compared to the batch update (0.487993). Check your callbacks.\n",
      "156060/156060 [==============================] - 43s 278us/sample - loss: 1.2210 - categorical_accuracy: 0.5130 - precision: 0.6775 - recall: 0.3348 - auc: 0.7989 - val_loss: 1.0932 - val_categorical_accuracy: 0.5495 - val_precision: 0.6983 - val_recall: 0.4342 - val_auc: 0.8406\n",
      "Epoch 2/10\n",
      "156060/156060 [==============================] - 38s 246us/sample - loss: 1.0156 - categorical_accuracy: 0.5898 - precision: 0.7192 - recall: 0.4489 - auc: 0.8660 - val_loss: 0.8729 - val_categorical_accuracy: 0.6527 - val_precision: 0.7247 - val_recall: 0.5354 - val_auc: 0.9030\n",
      "Epoch 3/10\n",
      "156060/156060 [==============================] - 39s 247us/sample - loss: 0.8452 - categorical_accuracy: 0.6591 - precision: 0.7082 - recall: 0.5765 - auc: 0.9078 - val_loss: 0.7802 - val_categorical_accuracy: 0.6870 - val_precision: 0.7286 - val_recall: 0.6154 - val_auc: 0.9213\n",
      "Epoch 4/10\n",
      "156060/156060 [==============================] - 39s 248us/sample - loss: 0.7917 - categorical_accuracy: 0.6795 - precision: 0.7173 - recall: 0.6159 - auc: 0.9184 - val_loss: 0.7432 - val_categorical_accuracy: 0.7033 - val_precision: 0.7485 - val_recall: 0.6280 - val_auc: 0.9293\n",
      "Epoch 5/10\n",
      "156060/156060 [==============================] - 39s 250us/sample - loss: 0.7556 - categorical_accuracy: 0.6929 - precision: 0.7266 - recall: 0.6364 - auc: 0.9253 - val_loss: 0.7079 - val_categorical_accuracy: 0.7096 - val_precision: 0.7417 - val_recall: 0.6583 - val_auc: 0.9340\n",
      "Epoch 6/10\n",
      "156060/156060 [==============================] - 39s 250us/sample - loss: 0.7314 - categorical_accuracy: 0.7010 - precision: 0.7318 - recall: 0.6504 - auc: 0.9296 - val_loss: 0.6848 - val_categorical_accuracy: 0.7218 - val_precision: 0.7467 - val_recall: 0.6799 - val_auc: 0.9381\n",
      "Epoch 7/10\n",
      "156060/156060 [==============================] - 39s 248us/sample - loss: 0.7099 - categorical_accuracy: 0.7078 - precision: 0.7349 - recall: 0.6632 - auc: 0.9333 - val_loss: 0.6705 - val_categorical_accuracy: 0.7236 - val_precision: 0.7498 - val_recall: 0.6799 - val_auc: 0.9402\n",
      "Epoch 8/10\n",
      "156060/156060 [==============================] - 39s 248us/sample - loss: 0.6900 - categorical_accuracy: 0.7160 - precision: 0.7410 - recall: 0.6736 - auc: 0.9367 - val_loss: 0.6531 - val_categorical_accuracy: 0.7307 - val_precision: 0.7535 - val_recall: 0.6925 - val_auc: 0.9429\n",
      "Epoch 9/10\n",
      "156060/156060 [==============================] - 39s 249us/sample - loss: 0.6756 - categorical_accuracy: 0.7208 - precision: 0.7440 - recall: 0.6814 - auc: 0.9391 - val_loss: 0.6374 - val_categorical_accuracy: 0.7428 - val_precision: 0.7721 - val_recall: 0.6931 - val_auc: 0.9471\n",
      "Epoch 10/10\n",
      "156060/156060 [==============================] - 38s 246us/sample - loss: 0.6605 - categorical_accuracy: 0.7256 - precision: 0.7473 - recall: 0.6898 - auc: 0.9415 - val_loss: 0.6183 - val_categorical_accuracy: 0.7446 - val_precision: 0.7708 - val_recall: 0.7018 - val_auc: 0.9494\n"
     ]
    }
   ],
   "source": [
    "history = model_lstm.fit(X_train, y_train, epochs=10, batch_size=2048, validation_data=(X_train, y_train), callbacks=[tensorboard_callback])"
   ]
  },
  {
   "cell_type": "code",
   "execution_count": 22,
   "metadata": {},
   "outputs": [],
   "source": [
    "%load_ext tensorboard"
   ]
  },
  {
   "cell_type": "code",
   "execution_count": 24,
   "metadata": {},
   "outputs": [
    {
     "data": {
      "text/plain": [
       "Reusing TensorBoard on port 6006 (pid 8668), started 0:01:24 ago. (Use '!kill 8668' to kill it.)"
      ]
     },
     "metadata": {},
     "output_type": "display_data"
    },
    {
     "data": {
      "text/html": [
       "\n",
       "      <iframe id=\"tensorboard-frame-83b1d068d24f541f\" width=\"100%\" height=\"800\" frameborder=\"0\">\n",
       "      </iframe>\n",
       "      <script>\n",
       "        (function() {\n",
       "          const frame = document.getElementById(\"tensorboard-frame-83b1d068d24f541f\");\n",
       "          const url = new URL(\"/\", window.location);\n",
       "          url.port = 6006;\n",
       "          frame.src = url;\n",
       "        })();\n",
       "      </script>\n",
       "  "
      ],
      "text/plain": [
       "<IPython.core.display.HTML object>"
      ]
     },
     "metadata": {},
     "output_type": "display_data"
    }
   ],
   "source": [
    "%tensorboard --logdir logs"
   ]
  },
  {
   "cell_type": "code",
   "execution_count": 22,
   "metadata": {},
   "outputs": [],
   "source": [
    "y = model_lstm.predict_classes(X_test)"
   ]
  },
  {
   "cell_type": "code",
   "execution_count": 27,
   "metadata": {},
   "outputs": [],
   "source": [
    "u = numpy.unique(y, return_counts=True)"
   ]
  },
  {
   "cell_type": "code",
   "execution_count": 28,
   "metadata": {},
   "outputs": [
    {
     "data": {
      "image/png": "[encoded data removed]",
      "text/plain": [
       "<Figure size 1440x864 with 1 Axes>"
      ]
     },
     "metadata": {},
     "output_type": "display_data"
    }
   ],
   "source": [
    "_, axis = pyplot.subplots(figsize=(20, 12))\n",
    "seaborn.barplot(x=u[0], y=u[1])\n",
    "axis.set_ylabel(\"Frequence\", fontsize=15)\n",
    "axis.set_xlabel(\"Class\", fontsize=15)\n",
    "pyplot.show()"
   ]
  },
  {
   "cell_type": "code",
   "execution_count": null,
   "metadata": {},
   "outputs": [],
   "source": []
  }
 ],
 "metadata": {
  "kernelspec": {
   "display_name": "Python 3",
   "language": "python",
   "name": "python3"
  },
  "language_info": {
   "codemirror_mode": {
    "name": "ipython",
    "version": 3
   },
   "file_extension": ".py",
   "mimetype": "text/x-python",
   "name": "python",
   "nbconvert_exporter": "python",
   "pygments_lexer": "ipython3",
   "version": "3.7.4"
  }
 },
 "nbformat": 4,
 "nbformat_minor": 4
}
